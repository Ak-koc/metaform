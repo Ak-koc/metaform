{
 "cells": [
  {
   "cell_type": "code",
   "execution_count": 1,
   "metadata": {},
   "outputs": [],
   "source": [
    "import gensim\n",
    "import pymongo"
   ]
  },
  {
   "cell_type": "code",
   "execution_count": 2,
   "metadata": {},
   "outputs": [],
   "source": [
    "with open('wordFile.txt','r', encoding='utf-8') as f:\n",
    "    textList = f.read().split()"
   ]
  },
  {
   "cell_type": "code",
   "execution_count": 3,
   "metadata": {},
   "outputs": [
    {
     "name": "stdout",
     "output_type": "stream",
     "text": [
      "['see', 'referencesthe', 'drone', 'built', 'serve', 'several', 'civilian', 'military', 'usesn', 'type']\n"
     ]
    }
   ],
   "source": [
    "print(textList[:10])"
   ]
  },
  {
   "cell_type": "code",
   "execution_count": 4,
   "metadata": {
    "scrolled": true
   },
   "outputs": [
    {
     "name": "stdout",
     "output_type": "stream",
     "text": [
      "[['see'], ['referencesthe'], ['drone'], ['built'], ['serve'], ['several'], ['civilian'], ['military'], ['usesn'], ['type']]\n"
     ]
    }
   ],
   "source": [
    "word2vec_format = [[item] for item in textList]\n",
    "print(word2vec_format[:10])"
   ]
  },
  {
   "cell_type": "code",
   "execution_count": 5,
   "metadata": {},
   "outputs": [],
   "source": [
    "model = gensim.models.Word2Vec(word2vec_format,\n",
    "                              min_count=2, \n",
    "                              workers=8,\n",
    "                              window=1)"
   ]
  },
  {
   "cell_type": "code",
   "execution_count": 6,
   "metadata": {
    "scrolled": true
   },
   "outputs": [
    {
     "data": {
      "text/plain": [
       "array([ 7.0887972e-03, -1.5679311e-03,  7.9474971e-03, -9.4886590e-03,\n",
       "       -8.0294991e-03, -6.6403723e-03, -4.0034559e-03,  4.9892161e-03,\n",
       "       -3.8135601e-03, -8.3199050e-03,  8.4117772e-03, -3.7470032e-03,\n",
       "        8.6086961e-03, -4.8957514e-03,  3.9185928e-03,  4.9220156e-03,\n",
       "        2.3926091e-03, -2.8188038e-03,  2.8491234e-03, -8.2562380e-03,\n",
       "       -2.7655410e-03, -2.5911594e-03,  7.2490047e-03, -3.4634043e-03,\n",
       "       -6.5997029e-03,  4.3404270e-03, -4.7448635e-04, -3.5975575e-03,\n",
       "        6.8824720e-03,  3.8723112e-03, -3.9002013e-03,  7.7188731e-04,\n",
       "        9.1435025e-03,  7.7546551e-03,  6.3618706e-03,  4.6673012e-03,\n",
       "        2.3844885e-03, -1.8416261e-03, -6.3712932e-03, -3.0181170e-04,\n",
       "       -1.5653897e-03, -5.7228567e-04, -6.2628724e-03,  7.4340464e-03,\n",
       "       -6.5914942e-03, -7.2392775e-03, -2.7571463e-03, -1.5154004e-03,\n",
       "       -7.6357173e-03,  6.9823978e-04, -5.3261113e-03, -1.2755442e-03,\n",
       "       -7.3651122e-03,  1.9605684e-03,  3.2731986e-03, -2.3138524e-05,\n",
       "       -5.4483581e-03, -1.7260861e-03,  7.0849154e-03,  3.7362576e-03,\n",
       "       -8.8810492e-03, -3.4135508e-03,  2.3541022e-03,  2.1380186e-03,\n",
       "       -9.4640087e-03,  4.5711659e-03, -8.6569972e-03, -7.3870681e-03,\n",
       "        3.4831120e-03, -3.4709596e-03,  3.5644697e-03,  8.8940905e-03,\n",
       "       -3.5743236e-03,  9.3204239e-03,  1.7110371e-03,  9.8477742e-03,\n",
       "        5.7050418e-03, -9.1494843e-03, -3.3277320e-03,  6.5301750e-03,\n",
       "        5.6027793e-03,  8.7055154e-03,  6.9261026e-03,  8.0388878e-03,\n",
       "       -9.8230103e-03,  4.2988253e-03, -5.0300765e-03,  3.5123848e-03,\n",
       "        6.0566878e-03,  4.3921303e-03,  7.5123594e-03,  1.4977145e-03,\n",
       "       -1.2649416e-03,  5.7683992e-03, -5.6395675e-03,  3.8590431e-05,\n",
       "        9.4565870e-03, -5.4812501e-03,  3.8142777e-03, -8.1130220e-03],\n",
       "      dtype=float32)"
      ]
     },
     "execution_count": 6,
     "metadata": {},
     "output_type": "execute_result"
    }
   ],
   "source": [
    "model.wv[\"drone\"]"
   ]
  },
  {
   "cell_type": "code",
   "execution_count": 7,
   "metadata": {},
   "outputs": [
    {
     "data": {
      "text/plain": [
       "13931"
      ]
     },
     "execution_count": 7,
     "metadata": {},
     "output_type": "execute_result"
    }
   ],
   "source": [
    "len(model.wv.vectors)"
   ]
  },
  {
   "cell_type": "code",
   "execution_count": 8,
   "metadata": {},
   "outputs": [
    {
     "data": {
      "text/plain": [
       "[('nov', 0.3580177426338196),\n",
       " ('cent', 0.3484627604484558),\n",
       " ('protests', 0.3466576039791107),\n",
       " ('40th', 0.34117233753204346),\n",
       " ('soft', 0.3324006497859955),\n",
       " ('evaluations', 0.3295593559741974),\n",
       " ('workers', 0.32780009508132935),\n",
       " ('rifles', 0.32555875182151794),\n",
       " ('fivebladed', 0.3237507939338684),\n",
       " ('affiliates', 0.3199162185192108)]"
      ]
     },
     "execution_count": 8,
     "metadata": {},
     "output_type": "execute_result"
    }
   ],
   "source": [
    "model.wv.most_similar(\"drone\")"
   ]
  },
  {
   "cell_type": "code",
   "execution_count": 9,
   "metadata": {},
   "outputs": [],
   "source": [
    "myclient = pymongo.MongoClient(\"mongodb://localhost:27017/\")\n",
    "mydb = myclient[\"mydatabase4\"]\n",
    "mycoll = mydb[\"wv_coll\"]"
   ]
  },
  {
   "cell_type": "code",
   "execution_count": 10,
   "metadata": {},
   "outputs": [],
   "source": [
    "list_wv = model.wv.index_to_key"
   ]
  },
  {
   "cell_type": "code",
   "execution_count": 11,
   "metadata": {},
   "outputs": [],
   "source": [
    "for item in list_wv:\n",
    "    similar_w = model.wv.most_similar(item)\n",
    "    for word in similar_w:\n",
    "        x = {\"word\": item, \"similar_word\": word[0]}\n",
    "        mycoll.insert_one(x)"
   ]
  },
  {
   "cell_type": "code",
   "execution_count": 23,
   "metadata": {},
   "outputs": [],
   "source": [
    "#Skip-gram denemek için. Çıktılar CBOW ile aynı.  \n",
    "model2 = gensim.models.Word2Vec(word2vec_format,\n",
    "                              min_count=2, \n",
    "                              workers=16,\n",
    "                              window=5,\n",
    "                              sg = 1)"
   ]
  },
  {
   "cell_type": "code",
   "execution_count": 24,
   "metadata": {},
   "outputs": [
    {
     "data": {
      "text/plain": [
       "[('nov', 0.3580177426338196),\n",
       " ('cent', 0.3484627604484558),\n",
       " ('protests', 0.3466576039791107),\n",
       " ('40th', 0.34117233753204346),\n",
       " ('soft', 0.3324006497859955),\n",
       " ('evaluations', 0.3295593559741974),\n",
       " ('workers', 0.32780009508132935),\n",
       " ('rifles', 0.32555875182151794),\n",
       " ('fivebladed', 0.3237507939338684),\n",
       " ('affiliates', 0.3199162185192108)]"
      ]
     },
     "execution_count": 24,
     "metadata": {},
     "output_type": "execute_result"
    }
   ],
   "source": [
    "model2.wv.most_similar(\"drone\")"
   ]
  },
  {
   "cell_type": "code",
   "execution_count": null,
   "metadata": {},
   "outputs": [],
   "source": []
  }
 ],
 "metadata": {
  "kernelspec": {
   "display_name": "Python 3",
   "language": "python",
   "name": "python3"
  },
  "language_info": {
   "codemirror_mode": {
    "name": "ipython",
    "version": 3
   },
   "file_extension": ".py",
   "mimetype": "text/x-python",
   "name": "python",
   "nbconvert_exporter": "python",
   "pygments_lexer": "ipython3",
   "version": "3.8.5"
  }
 },
 "nbformat": 4,
 "nbformat_minor": 4
}
