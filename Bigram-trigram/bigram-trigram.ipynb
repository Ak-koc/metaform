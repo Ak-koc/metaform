{
 "cells": [
  {
   "cell_type": "code",
   "execution_count": 1,
   "metadata": {},
   "outputs": [],
   "source": [
    "import pymongo\n",
    "import pandas as pd\n",
    "import itertools\n",
    "from gensim.test.utils import datapath\n",
    "from gensim.models.word2vec import Text8Corpus, Word2Vec \n",
    "from gensim.models.phrases import Phrases, Phraser, ENGLISH_CONNECTOR_WORDS"
   ]
  },
  {
   "cell_type": "code",
   "execution_count": 2,
   "metadata": {},
   "outputs": [],
   "source": [
    "sentences = Text8Corpus(datapath('C:/Users/Akkoc/Desktop/Bigram-trigram/wordFile.txt'),\n",
    "                        max_sentence_length=500000)"
   ]
  },
  {
   "cell_type": "code",
   "execution_count": 3,
   "metadata": {},
   "outputs": [],
   "source": [
    "first_sentence = next(iter(sentences))"
   ]
  },
  {
   "cell_type": "code",
   "execution_count": 4,
   "metadata": {},
   "outputs": [
    {
     "name": "stdout",
     "output_type": "stream",
     "text": [
      "['see', 'referencesthe', 'drone', 'built', 'serve', 'several', 'civilian', 'military', 'usesn', 'type']\n"
     ]
    }
   ],
   "source": [
    "print(first_sentence[:10])"
   ]
  },
  {
   "cell_type": "code",
   "execution_count": 5,
   "metadata": {},
   "outputs": [
    {
     "data": {
      "text/plain": [
       "264837"
      ]
     },
     "execution_count": 5,
     "metadata": {},
     "output_type": "execute_result"
    }
   ],
   "source": [
    "len(first_sentence)"
   ]
  },
  {
   "cell_type": "code",
   "execution_count": 6,
   "metadata": {},
   "outputs": [],
   "source": [
    "phrase_model = Phrases(sentences, min_count=1, threshold=1, connector_words=ENGLISH_CONNECTOR_WORDS)"
   ]
  },
  {
   "cell_type": "code",
   "execution_count": 28,
   "metadata": {},
   "outputs": [
    {
     "name": "stdout",
     "output_type": "stream",
     "text": [
      "['see_referencesthe', 'drone_built', 'serve', 'several', 'civilian_military', 'usesn', 'type', 'hale_high', 'altitude_long', 'endurance']\n"
     ]
    }
   ],
   "source": [
    "phrase_list = phrase_model[first_sentence]\n",
    "print(phrase_list[:10])"
   ]
  },
  {
   "cell_type": "code",
   "execution_count": 8,
   "metadata": {},
   "outputs": [
    {
     "name": "stdout",
     "output_type": "stream",
     "text": [
      "[['see_referencesthe'], ['drone_built'], ['serve'], ['several'], ['civilian_military'], ['usesn'], ['type'], ['hale_high'], ['altitude_long'], ['endurance']]\n"
     ]
    }
   ],
   "source": [
    "word2vec_format = [[item] for item in phrase_list]\n",
    "print(word2vec_format[:10])"
   ]
  },
  {
   "cell_type": "code",
   "execution_count": 9,
   "metadata": {},
   "outputs": [],
   "source": [
    "model = Word2Vec(word2vec_format,\n",
    "                 min_count=1, \n",
    "                 workers=8,\n",
    "                 window=10)"
   ]
  },
  {
   "cell_type": "code",
   "execution_count": 13,
   "metadata": {},
   "outputs": [
    {
     "data": {
      "text/plain": [
       "[('war_independence', 0.3899497091770172),\n",
       " ('bce', 0.38270798325538635),\n",
       " ('–_unmanned', 0.37549516558647156),\n",
       " ('rests', 0.37393835186958313),\n",
       " ('grumman_lockheed', 0.3683522939682007),\n",
       " ('maximum_weight', 0.3645557165145874),\n",
       " ('postdemonstration', 0.3623088300228119),\n",
       " ('feet_wide', 0.36031827330589294),\n",
       " ('91', 0.3536728322505951),\n",
       " ('per_cent', 0.352961927652359)]"
      ]
     },
     "execution_count": 13,
     "metadata": {},
     "output_type": "execute_result"
    }
   ],
   "source": [
    "model.wv.most_similar(\"drones\")"
   ]
  },
  {
   "cell_type": "code",
   "execution_count": 14,
   "metadata": {},
   "outputs": [],
   "source": [
    "myclient = pymongo.MongoClient(\"mongodb://localhost:27017/\")\n",
    "mydb = myclient[\"mydatabase4\"]\n",
    "mycoll = mydb[\"bigram_wv_coll\"]"
   ]
  },
  {
   "cell_type": "code",
   "execution_count": 15,
   "metadata": {},
   "outputs": [],
   "source": [
    "list_wv = model.wv.index_to_key"
   ]
  },
  {
   "cell_type": "code",
   "execution_count": 16,
   "metadata": {},
   "outputs": [],
   "source": [
    "for item in list_wv:\n",
    "    similar_w = model.wv.most_similar(item)\n",
    "    for word in similar_w:\n",
    "        x = {\"word\": item, \"similar_word\": word[0]}\n",
    "        mycoll.insert_one(x)"
   ]
  },
  {
   "cell_type": "markdown",
   "metadata": {},
   "source": [
    "# Trigram"
   ]
  },
  {
   "cell_type": "code",
   "execution_count": 65,
   "metadata": {},
   "outputs": [],
   "source": [
    "from nltk import ngrams"
   ]
  },
  {
   "cell_type": "code",
   "execution_count": 88,
   "metadata": {},
   "outputs": [],
   "source": [
    "with open(\"wordFile.txt\",'r', encoding='utf-8') as f:\n",
    "    trigrams = list(ngrams(f.read().split(),3))"
   ]
  },
  {
   "cell_type": "code",
   "execution_count": 89,
   "metadata": {},
   "outputs": [
    {
     "name": "stdout",
     "output_type": "stream",
     "text": [
      "[('see', 'referencesthe', 'drone'), ('referencesthe', 'drone', 'built'), ('drone', 'built', 'serve'), ('built', 'serve', 'several'), ('serve', 'several', 'civilian')]\n"
     ]
    }
   ],
   "source": [
    "print(trigram[:5])"
   ]
  },
  {
   "cell_type": "code",
   "execution_count": 90,
   "metadata": {},
   "outputs": [],
   "source": [
    "trigrm_l = []\n",
    "for i in range(len(trigram)-1):\n",
    "    trigrm_l.append(trigram[i][0] + ' ' + trigram[i][1] + ' ' + trigram[i][2] )"
   ]
  },
  {
   "cell_type": "code",
   "execution_count": 92,
   "metadata": {},
   "outputs": [
    {
     "name": "stdout",
     "output_type": "stream",
     "text": [
      "['see referencesthe drone', 'referencesthe drone built', 'drone built serve']\n"
     ]
    },
    {
     "data": {
      "text/plain": [
       "264834"
      ]
     },
     "execution_count": 92,
     "metadata": {},
     "output_type": "execute_result"
    }
   ],
   "source": [
    "print(trigrm_l[:3])\n",
    "len(trigrm_l)"
   ]
  },
  {
   "cell_type": "code",
   "execution_count": 93,
   "metadata": {},
   "outputs": [],
   "source": [
    "tgram_list = trigrm_l + first_sentence"
   ]
  },
  {
   "cell_type": "code",
   "execution_count": 94,
   "metadata": {},
   "outputs": [
    {
     "data": {
      "text/plain": [
       "529671"
      ]
     },
     "execution_count": 94,
     "metadata": {},
     "output_type": "execute_result"
    }
   ],
   "source": [
    "len(tgram_list)"
   ]
  },
  {
   "cell_type": "code",
   "execution_count": 96,
   "metadata": {},
   "outputs": [
    {
     "name": "stdout",
     "output_type": "stream",
     "text": [
      "[['see referencesthe drone'], ['referencesthe drone built'], ['drone built serve'], ['built serve several'], ['serve several civilian'], ['several civilian military'], ['civilian military usesn'], ['military usesn type'], ['usesn type hale'], ['type hale high']]\n"
     ]
    }
   ],
   "source": [
    "word2vec_format_tgram = [[item] for item in tgram_list]\n",
    "print(word2vec_format[:10])"
   ]
  },
  {
   "cell_type": "code",
   "execution_count": 104,
   "metadata": {},
   "outputs": [],
   "source": [
    "t_model = Word2Vec(word2vec_format_tgram,\n",
    "                 min_count=1, \n",
    "                 workers=8,\n",
    "                 window=10)"
   ]
  },
  {
   "cell_type": "code",
   "execution_count": 105,
   "metadata": {},
   "outputs": [
    {
     "data": {
      "text/plain": [
       "[('light infrared camera', 0.42211416363716125),\n",
       " ('continued vehicles american', 0.4218779504299164),\n",
       " ('role cyprusbased squadrons', 0.41908279061317444),\n",
       " ('index 2020 important', 0.409993052482605),\n",
       " ('interfere enemy communications', 0.40722009539604187),\n",
       " ('one control aircraft', 0.40719741582870483),\n",
       " ('27 february 2019', 0.3941020965576172),\n",
       " ('modified improved upon', 0.39153432846069336),\n",
       " ('mars one day', 0.383407860994339),\n",
       " ('hours afghanistan dropped', 0.38310322165489197)]"
      ]
     },
     "execution_count": 105,
     "metadata": {},
     "output_type": "execute_result"
    }
   ],
   "source": [
    "t_model.wv.most_similar('people')"
   ]
  },
  {
   "cell_type": "code",
   "execution_count": 106,
   "metadata": {},
   "outputs": [],
   "source": [
    "list_tgram_wv = t_model.wv.index_to_key"
   ]
  },
  {
   "cell_type": "code",
   "execution_count": 107,
   "metadata": {},
   "outputs": [],
   "source": [
    "mycoll2 = mydb[\"tgram_wv_coll\"]"
   ]
  },
  {
   "cell_type": "code",
   "execution_count": null,
   "metadata": {},
   "outputs": [],
   "source": [
    "for item in list_tgram_wv:\n",
    "    similar_w = t_model.wv.most_similar(item)\n",
    "    for word in similar_w:\n",
    "        x = {\"word\": item, \"similar_word\": word[0]}\n",
    "        mycoll2.insert_one(x)"
   ]
  }
 ],
 "metadata": {
  "kernelspec": {
   "display_name": "Python 3",
   "language": "python",
   "name": "python3"
  },
  "language_info": {
   "codemirror_mode": {
    "name": "ipython",
    "version": 3
   },
   "file_extension": ".py",
   "mimetype": "text/x-python",
   "name": "python",
   "nbconvert_exporter": "python",
   "pygments_lexer": "ipython3",
   "version": "3.8.5"
  }
 },
 "nbformat": 4,
 "nbformat_minor": 4
}
